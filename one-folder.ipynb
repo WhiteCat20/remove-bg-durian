{
 "cells": [
  {
   "cell_type": "code",
   "execution_count": 1,
   "metadata": {},
   "outputs": [],
   "source": [
    "import os\n",
    "from rembg import remove\n",
    "from PIL import Image"
   ]
  },
  {
   "cell_type": "code",
   "execution_count": null,
   "metadata": {},
   "outputs": [],
   "source": [
    "input_folder = \"durian mentah\"\n",
    "output_folder = \"mentah\""
   ]
  },
  {
   "cell_type": "code",
   "execution_count": null,
   "metadata": {},
   "outputs": [],
   "source": [
    "# Create the output folder if it doesn't exist\n",
    "if not os.path.exists(output_folder):\n",
    "    os.makedirs(output_folder)"
   ]
  },
  {
   "cell_type": "code",
   "execution_count": null,
   "metadata": {},
   "outputs": [],
   "source": [
    "# Get a list of all files in the input folder\n",
    "input_files = [f for f in os.listdir(input_folder) if os.path.isfile(os.path.join(input_folder, f))]\n",
    "\n",
    "# Process each image in the folder\n",
    "for input_file in input_files:\n",
    "    input_path = os.path.join(input_folder, input_file)\n",
    "    output_path = os.path.join(output_folder, f\"output_{input_file}\")\n",
    "\n",
    "    input_image = Image.open(input_path)\n",
    "    output_image = remove(input_image)\n",
    "    \n",
    "\n",
    "    # Convert to RGB mode before saving as JPEG\n",
    "    # output_image = output_image.convert(\"RGB\")\n",
    "\n",
    "    output_image.save(output_path, format='PNG')\n",
    "\n",
    "print(\"Background removal completed.\")"
   ]
  }
 ],
 "metadata": {
  "kernelspec": {
   "display_name": "Python 3",
   "language": "python",
   "name": "python3"
  },
  "language_info": {
   "codemirror_mode": {
    "name": "ipython",
    "version": 3
   },
   "file_extension": ".py",
   "mimetype": "text/x-python",
   "name": "python",
   "nbconvert_exporter": "python",
   "pygments_lexer": "ipython3",
   "version": "3.11.5"
  }
 },
 "nbformat": 4,
 "nbformat_minor": 2
}
